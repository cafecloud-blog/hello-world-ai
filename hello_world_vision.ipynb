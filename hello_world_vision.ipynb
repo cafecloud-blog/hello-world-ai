{
 "cells": [
  {
   "cell_type": "markdown",
   "metadata": {},
   "source": [
    "# Hello World Vision\n",
    "All steps involved in the training of a machine learning model and it's usage.\n",
    "\n",
    "## Introduction\n",
    "Machine learning is not that complex for the point of view of the engineer and practitionner, but it still requires\n",
    "practice in order the get a firm grasp of the field. The objective of this notebook is to be a practice ground for\n",
    "the learning of the basics of machine learning by solving a simple machine learning vision problem. \n",
    "\n",
    "At the end of this notebook, it is the objective of the author to have a solid grasp of what it takes to create a machine learning model and prove that it works. The goal is for this knowledge to percolate into that almost intuition like feeling one acquires from deeply understanding something.\n",
    "\n",
    "## Exercice\n",
    "Learning the machine learning concepts will be done through the solving a formulated machine learning problem of computer vision.\n",
    "The objective of the exercice is to acquire/solidify the following skills:\n",
    "\n",
    "1. Prepare/manipulate standard machine learning datasets.\n",
    "2. Use appropriately the notion of training, validation and test set.\n",
    "3. Build and use training example visualisation tools.\n",
    "4. Understand the concepts of metrics, such as: accuracy, precision, recall and F1 score for validating machine learning models.\n",
    "5. Create effective loss function for the purpose of learning.\n",
    "6. Create simple neural network models.\n",
    "7. Write training code for model paremeters of the model using standard techniques such as SGD.\n",
    "8. Validate that the trained model are effective using standard machine learning tools.\n",
    "\n"
   ]
  },
  {
   "cell_type": "code",
   "execution_count": 5,
   "metadata": {},
   "outputs": [
    {
     "name": "stderr",
     "output_type": "stream",
     "text": [
      "UsageError: Line magic function `%%capture` not found.\n"
     ]
    }
   ],
   "source": [
    "# installing dependencies and packages required to code the exercice\n",
    "%%capture\n",
    "!pip install torch torchvision torchaudio;\n",
    "!pip install fastai;"
   ]
  },
  {
   "cell_type": "code",
   "execution_count": null,
   "metadata": {},
   "outputs": [],
   "source": []
  }
 ],
 "metadata": {
  "kernelspec": {
   "display_name": "Python 3",
   "language": "python",
   "name": "python3"
  },
  "language_info": {
   "codemirror_mode": {
    "name": "ipython",
    "version": 3
   },
   "file_extension": ".py",
   "mimetype": "text/x-python",
   "name": "python",
   "nbconvert_exporter": "python",
   "pygments_lexer": "ipython3",
   "version": "3.9.0"
  }
 },
 "nbformat": 4,
 "nbformat_minor": 4
}
