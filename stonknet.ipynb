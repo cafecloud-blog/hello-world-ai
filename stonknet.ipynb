{
 "cells": [
  {
   "cell_type": "markdown",
   "metadata": {},
   "source": [
    "# Stonknet\n",
    "A machine learning powered analysis tool for equities\n",
    "\n",
    "## Introduction\n",
    "This notebook contains code for the creation of a simple Machine learning model that analysses equity prices.\n",
    "The purposes of the notebook is to practice the skills required for the creation of usefull machine learning models; from dataset\n",
    "creation to inference in production.\n",
    "\n",
    "## Approach summary\n",
    "1. Create a data set that is deemed suitable for performing supervised machine learning on equity prices.\n",
    "2. Create data visualisation tools for some of the training example.\n",
    "3. Use the data visualization tool to print out some of the training example.\n",
    "4. Define a simple \"baseline\" model that uses a simple heuristic to determine \n"
   ]
  },
  {
   "cell_type": "markdown",
   "metadata": {},
   "source": []
  }
 ],
 "metadata": {
  "kernelspec": {
   "display_name": "Python 3",
   "language": "python",
   "name": "python3"
  },
  "language_info": {
   "codemirror_mode": {
    "name": "ipython",
    "version": 3
   },
   "file_extension": ".py",
   "mimetype": "text/x-python",
   "name": "python",
   "nbconvert_exporter": "python",
   "pygments_lexer": "ipython3",
   "version": "3.9.0"
  }
 },
 "nbformat": 4,
 "nbformat_minor": 4
}
